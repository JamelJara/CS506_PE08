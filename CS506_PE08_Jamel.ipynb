{
  "nbformat": 4,
  "nbformat_minor": 0,
  "metadata": {
    "colab": {
      "name": "CS506_PE08.ipynb",
      "provenance": []
    },
    "kernelspec": {
      "name": "python3",
      "display_name": "Python 3"
    },
    "language_info": {
      "name": "python"
    }
  },
  "cells": [
    {
      "cell_type": "code",
      "execution_count": 35,
      "metadata": {
        "id": "GyBUHR0Jvwxh"
      },
      "outputs": [],
      "source": [
        "import pandas as pd\n",
        "import numpy as np\n",
        "import matplotlib.pyplot as plt\n",
        "import seaborn as sns\n",
        "\n",
        "from sklearn import  datasets\n",
        "from sklearn.model_selection import train_test_split\n",
        "\n",
        "from sklearn.neighbors import KNeighborsClassifier\n",
        "from sklearn.svm import SVC\n",
        "from sklearn.neural_network import MLPClassifier\n",
        "from sklearn.tree import DecisionTreeClassifier\n",
        "from sklearn.metrics import accuracy_score\n",
        "\n"
      ]
    },
    {
      "cell_type": "code",
      "source": [
        "iris = datasets.load_iris()\n",
        "iris1 = pd.DataFrame(iris.data)\n",
        "iris1.columns = iris.feature_names\n",
        "iris1.head()\n"
      ],
      "metadata": {
        "id": "a7pBMAeihr5q",
        "colab": {
          "base_uri": "https://localhost:8080/",
          "height": 206
        },
        "outputId": "07b06b48-7b59-44fd-f184-013ee93d78ea"
      },
      "execution_count": 3,
      "outputs": [
        {
          "output_type": "execute_result",
          "data": {
            "text/plain": [
              "   sepal length (cm)  sepal width (cm)  petal length (cm)  petal width (cm)\n",
              "0                5.1               3.5                1.4               0.2\n",
              "1                4.9               3.0                1.4               0.2\n",
              "2                4.7               3.2                1.3               0.2\n",
              "3                4.6               3.1                1.5               0.2\n",
              "4                5.0               3.6                1.4               0.2"
            ],
            "text/html": [
              "\n",
              "  <div id=\"df-67bb42a3-bbd4-481b-b50c-cbf674e3ee65\">\n",
              "    <div class=\"colab-df-container\">\n",
              "      <div>\n",
              "<style scoped>\n",
              "    .dataframe tbody tr th:only-of-type {\n",
              "        vertical-align: middle;\n",
              "    }\n",
              "\n",
              "    .dataframe tbody tr th {\n",
              "        vertical-align: top;\n",
              "    }\n",
              "\n",
              "    .dataframe thead th {\n",
              "        text-align: right;\n",
              "    }\n",
              "</style>\n",
              "<table border=\"1\" class=\"dataframe\">\n",
              "  <thead>\n",
              "    <tr style=\"text-align: right;\">\n",
              "      <th></th>\n",
              "      <th>sepal length (cm)</th>\n",
              "      <th>sepal width (cm)</th>\n",
              "      <th>petal length (cm)</th>\n",
              "      <th>petal width (cm)</th>\n",
              "    </tr>\n",
              "  </thead>\n",
              "  <tbody>\n",
              "    <tr>\n",
              "      <th>0</th>\n",
              "      <td>5.1</td>\n",
              "      <td>3.5</td>\n",
              "      <td>1.4</td>\n",
              "      <td>0.2</td>\n",
              "    </tr>\n",
              "    <tr>\n",
              "      <th>1</th>\n",
              "      <td>4.9</td>\n",
              "      <td>3.0</td>\n",
              "      <td>1.4</td>\n",
              "      <td>0.2</td>\n",
              "    </tr>\n",
              "    <tr>\n",
              "      <th>2</th>\n",
              "      <td>4.7</td>\n",
              "      <td>3.2</td>\n",
              "      <td>1.3</td>\n",
              "      <td>0.2</td>\n",
              "    </tr>\n",
              "    <tr>\n",
              "      <th>3</th>\n",
              "      <td>4.6</td>\n",
              "      <td>3.1</td>\n",
              "      <td>1.5</td>\n",
              "      <td>0.2</td>\n",
              "    </tr>\n",
              "    <tr>\n",
              "      <th>4</th>\n",
              "      <td>5.0</td>\n",
              "      <td>3.6</td>\n",
              "      <td>1.4</td>\n",
              "      <td>0.2</td>\n",
              "    </tr>\n",
              "  </tbody>\n",
              "</table>\n",
              "</div>\n",
              "      <button class=\"colab-df-convert\" onclick=\"convertToInteractive('df-67bb42a3-bbd4-481b-b50c-cbf674e3ee65')\"\n",
              "              title=\"Convert this dataframe to an interactive table.\"\n",
              "              style=\"display:none;\">\n",
              "        \n",
              "  <svg xmlns=\"http://www.w3.org/2000/svg\" height=\"24px\"viewBox=\"0 0 24 24\"\n",
              "       width=\"24px\">\n",
              "    <path d=\"M0 0h24v24H0V0z\" fill=\"none\"/>\n",
              "    <path d=\"M18.56 5.44l.94 2.06.94-2.06 2.06-.94-2.06-.94-.94-2.06-.94 2.06-2.06.94zm-11 1L8.5 8.5l.94-2.06 2.06-.94-2.06-.94L8.5 2.5l-.94 2.06-2.06.94zm10 10l.94 2.06.94-2.06 2.06-.94-2.06-.94-.94-2.06-.94 2.06-2.06.94z\"/><path d=\"M17.41 7.96l-1.37-1.37c-.4-.4-.92-.59-1.43-.59-.52 0-1.04.2-1.43.59L10.3 9.45l-7.72 7.72c-.78.78-.78 2.05 0 2.83L4 21.41c.39.39.9.59 1.41.59.51 0 1.02-.2 1.41-.59l7.78-7.78 2.81-2.81c.8-.78.8-2.07 0-2.86zM5.41 20L4 18.59l7.72-7.72 1.47 1.35L5.41 20z\"/>\n",
              "  </svg>\n",
              "      </button>\n",
              "      \n",
              "  <style>\n",
              "    .colab-df-container {\n",
              "      display:flex;\n",
              "      flex-wrap:wrap;\n",
              "      gap: 12px;\n",
              "    }\n",
              "\n",
              "    .colab-df-convert {\n",
              "      background-color: #E8F0FE;\n",
              "      border: none;\n",
              "      border-radius: 50%;\n",
              "      cursor: pointer;\n",
              "      display: none;\n",
              "      fill: #1967D2;\n",
              "      height: 32px;\n",
              "      padding: 0 0 0 0;\n",
              "      width: 32px;\n",
              "    }\n",
              "\n",
              "    .colab-df-convert:hover {\n",
              "      background-color: #E2EBFA;\n",
              "      box-shadow: 0px 1px 2px rgba(60, 64, 67, 0.3), 0px 1px 3px 1px rgba(60, 64, 67, 0.15);\n",
              "      fill: #174EA6;\n",
              "    }\n",
              "\n",
              "    [theme=dark] .colab-df-convert {\n",
              "      background-color: #3B4455;\n",
              "      fill: #D2E3FC;\n",
              "    }\n",
              "\n",
              "    [theme=dark] .colab-df-convert:hover {\n",
              "      background-color: #434B5C;\n",
              "      box-shadow: 0px 1px 3px 1px rgba(0, 0, 0, 0.15);\n",
              "      filter: drop-shadow(0px 1px 2px rgba(0, 0, 0, 0.3));\n",
              "      fill: #FFFFFF;\n",
              "    }\n",
              "  </style>\n",
              "\n",
              "      <script>\n",
              "        const buttonEl =\n",
              "          document.querySelector('#df-67bb42a3-bbd4-481b-b50c-cbf674e3ee65 button.colab-df-convert');\n",
              "        buttonEl.style.display =\n",
              "          google.colab.kernel.accessAllowed ? 'block' : 'none';\n",
              "\n",
              "        async function convertToInteractive(key) {\n",
              "          const element = document.querySelector('#df-67bb42a3-bbd4-481b-b50c-cbf674e3ee65');\n",
              "          const dataTable =\n",
              "            await google.colab.kernel.invokeFunction('convertToInteractive',\n",
              "                                                     [key], {});\n",
              "          if (!dataTable) return;\n",
              "\n",
              "          const docLinkHtml = 'Like what you see? Visit the ' +\n",
              "            '<a target=\"_blank\" href=https://colab.research.google.com/notebooks/data_table.ipynb>data table notebook</a>'\n",
              "            + ' to learn more about interactive tables.';\n",
              "          element.innerHTML = '';\n",
              "          dataTable['output_type'] = 'display_data';\n",
              "          await google.colab.output.renderOutput(dataTable, element);\n",
              "          const docLink = document.createElement('div');\n",
              "          docLink.innerHTML = docLinkHtml;\n",
              "          element.appendChild(docLink);\n",
              "        }\n",
              "      </script>\n",
              "    </div>\n",
              "  </div>\n",
              "  "
            ]
          },
          "metadata": {},
          "execution_count": 3
        }
      ]
    },
    {
      "cell_type": "code",
      "source": [
        ""
      ],
      "metadata": {
        "id": "_8ZMusVDxQbN"
      },
      "execution_count": 17,
      "outputs": []
    },
    {
      "cell_type": "code",
      "source": [
        "# Problem 1: \n",
        "# Write a program such that different training variables\n",
        "# such as \"mxdepth\" for DecisionTreeClassifier and \"k\" for KNN classifier \n",
        "# can have consecutive values being experimented. For example, rewrite the\n",
        "# following code so that mxdepth starts from 1 to 10 or k goes from 1 to 10\n",
        "# You will need to plot the accuracy per varying these parameters of each classifier \n",
        "# with your analysis in words"
      ],
      "metadata": {
        "id": "yuqwamHywg9Z"
      },
      "execution_count": 4,
      "outputs": []
    },
    {
      "cell_type": "code",
      "source": [
        "#iris = load_iris()\n",
        "X = iris.data\n",
        "y = iris.target\n",
        "x_train, x_test, y_train, y_test = train_test_split(X, y, random_state=0)"
      ],
      "metadata": {
        "id": "V7-xn3_-oT1Q"
      },
      "execution_count": 81,
      "outputs": []
    },
    {
      "cell_type": "code",
      "source": [
        "mxdepth = 1\n",
        "classifier1 = DecisionTreeClassifier(max_depth=mxdepth)\n",
        "classifier1.fit(x_train,y_train)\n",
        "predictions=classifier1.predict(x_test)\n",
        "print(f\"DTC ({mxdepth}) = %0.2f accuracy\" % accuracy_score(y_test,predictions))"
      ],
      "metadata": {
        "colab": {
          "base_uri": "https://localhost:8080/"
        },
        "id": "URUZ7fxwiBMp",
        "outputId": "716483e5-0172-469c-b3b7-6cb8eedfa64a"
      },
      "execution_count": 82,
      "outputs": [
        {
          "output_type": "stream",
          "name": "stdout",
          "text": [
            "DTC (1) = 0.58 accuracy\n"
          ]
        }
      ]
    },
    {
      "cell_type": "code",
      "source": [
        "k = 1\n",
        "classifier2 = KNeighborsClassifier(n_neighbors=k)\n",
        "classifier2.fit(x_train,y_train)\n",
        "predictions=classifier2.predict(x_test)\n",
        "print(f\"KNN ({k}) = %0.2f accuracy\" % accuracy_score(y_test,predictions))"
      ],
      "metadata": {
        "colab": {
          "base_uri": "https://localhost:8080/"
        },
        "id": "c0TNYEaNiGU4",
        "outputId": "281b0ae6-b4aa-43e3-f283-c77505127986"
      },
      "execution_count": 83,
      "outputs": [
        {
          "output_type": "stream",
          "name": "stdout",
          "text": [
            "KNN (1) = 0.97 accuracy\n"
          ]
        }
      ]
    },
    {
      "cell_type": "code",
      "source": [
        "# List of values to try for max_depth:\n",
        "max_depth_range = list(range(1, 11))\n",
        "# List to store the accuracy for each value of max_depth:\n",
        "accuracy = []\n",
        "for depth in max_depth_range:    \n",
        "    #clf = DecisionTreeClassifier(max_depth = depth, random_state = 0)\n",
        "    #clf.fit(x_train, y_train)\n",
        "\n",
        "    classifier1 = DecisionTreeClassifier(max_depth = depth, random_state = 0)\n",
        "    classifier1.fit(x_train,y_train)\n",
        "    predictions=classifier1.predict(x_test)\n",
        "    #score = classifier1.score(x_test, y_test)\n",
        "    #score.append(accuracy_score(y_test, predictions))\n",
        "    accuracy.append(accuracy_score(y_test, predictions))\n",
        "\n",
        "    #score = clf.score(x_test, y_test)\n",
        "    #accuracy.append(score)\n",
        "print(accuracy)"
      ],
      "metadata": {
        "colab": {
          "base_uri": "https://localhost:8080/"
        },
        "id": "H7bZPbFsu_Hx",
        "outputId": "f8d67126-4b21-4564-9cef-7a6507e52397"
      },
      "execution_count": 84,
      "outputs": [
        {
          "output_type": "stream",
          "name": "stdout",
          "text": [
            "[0.5789473684210527, 0.8947368421052632, 0.9736842105263158, 0.9736842105263158, 0.9736842105263158, 0.9736842105263158, 0.9736842105263158, 0.9736842105263158, 0.9736842105263158, 0.9736842105263158]\n"
          ]
        }
      ]
    },
    {
      "cell_type": "code",
      "source": [
        "# try K=1 through K=10 and record testing accuracy\n",
        "k_range = list(range(1, 11))\n",
        "\n",
        "scores = {}\n",
        "scores_list = []\n",
        "#scores = []\n",
        "\n",
        "for k in k_range:\n",
        "    classifier2 = KNeighborsClassifier(n_neighbors=k)\n",
        "    classifier2.fit(x_train,y_train)\n",
        "    predictions=classifier2.predict(x_test)\n",
        "    scores[k] = accuracy_score(y_test,predictions)\n",
        "    scores_list.append(accuracy_score(y_test,predictions))\n",
        "\n",
        "    #scores.append(accuracy_score(y_test, predictions))\n",
        "print(scores)\n"
      ],
      "metadata": {
        "colab": {
          "base_uri": "https://localhost:8080/"
        },
        "id": "Q5sh54g69J_Y",
        "outputId": "aa3492f9-072f-42b6-fcef-7c75e1339f81"
      },
      "execution_count": 85,
      "outputs": [
        {
          "output_type": "stream",
          "name": "stdout",
          "text": [
            "{1: 0.9736842105263158, 2: 0.9736842105263158, 3: 0.9736842105263158, 4: 0.9736842105263158, 5: 0.9736842105263158, 6: 0.9736842105263158, 7: 0.9736842105263158, 8: 0.9736842105263158, 9: 0.9736842105263158, 10: 0.9736842105263158}\n"
          ]
        }
      ]
    },
    {
      "cell_type": "code",
      "source": [
        "scores"
      ],
      "metadata": {
        "colab": {
          "base_uri": "https://localhost:8080/"
        },
        "id": "nXfQg33k-Tlz",
        "outputId": "8430497a-0307-4bc0-ae4b-54358332034d"
      },
      "execution_count": 87,
      "outputs": [
        {
          "output_type": "execute_result",
          "data": {
            "text/plain": [
              "{1: 0.9736842105263158,\n",
              " 2: 0.9736842105263158,\n",
              " 3: 0.9736842105263158,\n",
              " 4: 0.9736842105263158,\n",
              " 5: 0.9736842105263158,\n",
              " 6: 0.9736842105263158,\n",
              " 7: 0.9736842105263158,\n",
              " 8: 0.9736842105263158,\n",
              " 9: 0.9736842105263158,\n",
              " 10: 0.9736842105263158}"
            ]
          },
          "metadata": {},
          "execution_count": 87
        }
      ]
    },
    {
      "cell_type": "code",
      "source": [
        ""
      ],
      "metadata": {
        "id": "sJEFejMXu_42"
      },
      "execution_count": null,
      "outputs": []
    },
    {
      "cell_type": "code",
      "source": [
        "# Problem 2: \n",
        "# The data contains 4 different features namely \n",
        "# sepal length, sepal width, petal length, and petal width\n",
        "# It is important to recognize which feature set(s) performs the best. Choose the best combination based on your\n",
        "# experiment. You will have 10 different combinations possible \n",
        "# (e.g. {SL, SW, PL, PW, (SL,SW), (SL, PL)...(SL, SW, PL, PW)} \n",
        "# You will show different performance after based on the best training parameters from Problem #1.\n",
        "# This may show that the more number of features doesn't end up with better accuracy necessarily. \n",
        "# You will have the performance results per 10 combinations and plot the results on a graph for each classifier.\n",
        "# with your analysis in words."
      ],
      "metadata": {
        "id": "2680YpHBg9Z0"
      },
      "execution_count": null,
      "outputs": []
    },
    {
      "cell_type": "code",
      "source": [
        "x=iris.data   # data that contains 4 features of 150 samples. \n",
        "y=iris.target # labels with ground truth information\n",
        "\n",
        "# split the data into split% training and (100-split)% testing\n",
        "split = 0.9"
      ],
      "metadata": {
        "id": "BEczXOofidah"
      },
      "execution_count": 12,
      "outputs": []
    },
    {
      "cell_type": "code",
      "source": [
        "X_train, X_test, Y_train, Y_test = train_test_split(X, y, test_size=0.9, random_state=4)"
      ],
      "metadata": {
        "id": "qdtyrv8Iu8fx"
      },
      "execution_count": 13,
      "outputs": []
    },
    {
      "cell_type": "code",
      "source": [
        "#iris = datasets.load_iris()\n",
        "df = pd.read_csv('Iris.csv')\n",
        "iris_df = pd.DataFrame(iris['data'], columns=iris['feature_names'])\n",
        "iris_df['species'] = iris['target']\n",
        "\n",
        "colours = ['red', 'orange', 'blue']\n",
        "species = ['I. setosa', 'I. versicolor', 'I. virginica']\n",
        "\n",
        "for i in range(0, 3):    \n",
        "    species_df = iris_df[iris_df['species'] == i]    \n",
        "    plt.scatter(        \n",
        "        species_df['sepal length (cm)'],        \n",
        "        species_df['petal length (cm)'],\n",
        "        color=colours[i],        \n",
        "        alpha=0.5,        \n",
        "        label=species[i]   \n",
        "    )\n",
        "\n",
        "plt.xlabel('sepal length (cm)')\n",
        "plt.ylabel('petal length (cm)')\n",
        "plt.title('Iris dataset: petal length vs sepal length')\n",
        "plt.legend(loc='lower right')\n",
        "\n",
        "plt.show()"
      ],
      "metadata": {
        "colab": {
          "base_uri": "https://localhost:8080/",
          "height": 295
        },
        "id": "oUqk1yU40ExK",
        "outputId": "8abe5072-f0a0-40b9-8604-80b8d884650d"
      },
      "execution_count": 89,
      "outputs": [
        {
          "output_type": "display_data",
          "data": {
            "text/plain": [
              "<Figure size 432x288 with 1 Axes>"
            ],
            "image/png": "[encoded data removed]"
          },
          "metadata": {
            "needs_background": "light"
          }
        }
      ]
    },
    {
      "cell_type": "code",
      "source": [
        "iris2 = pd.read_csv(\"Iris.csv\") \n",
        "# (e.g. {SL, SW, PL, PW, (SL,SW), (SL, PL)...(SL, SW, PL, PW)} \n",
        "iris2.plot(kind=\"scatter\", x=\"SepalLengthCm\", y=\"SepalWidthCm\")\n",
        "iris2.plot(kind=\"scatter\", x=\"SepalLengthCm\", y=\"PetalWidthCm\")\n",
        "iris2.plot(kind=\"scatter\", x=\"SepalLengthCm\", y=\"PetalLengthCm\")\n"
      ],
      "metadata": {
        "colab": {
          "base_uri": "https://localhost:8080/",
          "height": 823
        },
        "id": "oGunU1YE8-SP",
        "outputId": "f35b77d5-9994-4292-f22e-7664ae7cf5d7"
      },
      "execution_count": 90,
      "outputs": [
        {
          "output_type": "execute_result",
          "data": {
            "text/plain": [
              "<matplotlib.axes._subplots.AxesSubplot at 0x7fd0a2ebb6d0>"
            ]
          },
          "metadata": {},
          "execution_count": 90
        },
        {
          "output_type": "display_data",
          "data": {
            "text/plain": [
              "<Figure size 432x288 with 1 Axes>"
            ],
            "image/png": "[encoded data removed]"
          },
          "metadata": {
            "needs_background": "light"
          }
        },
        {
          "output_type": "display_data",
          "data": {
            "text/plain": [
              "<Figure size 432x288 with 1 Axes>"
            ],
            "image/png": "[encoded data removed]"
          },
          "metadata": {
            "needs_background": "light"
          }
        },
        {
          "output_type": "display_data",
          "data": {
            "text/plain": [
              "<Figure size 432x288 with 1 Axes>"
            ],
            "image/png": "[encoded data removed]"
          },
          "metadata": {
            "needs_background": "light"
          }
        }
      ]
    },
    {
      "cell_type": "code",
      "source": [
        "iris2.plot(kind=\"scatter\", x=\"SepalWidthCm\", y=\"PetalWidthCm\")\n",
        "iris2.plot(kind=\"scatter\", x=\"SepalWidthCm\", y=\"PetalLengthCm\")"
      ],
      "metadata": {
        "colab": {
          "base_uri": "https://localhost:8080/",
          "height": 558
        },
        "id": "NODLr5FTNGJK",
        "outputId": "82a81cad-4954-4b8a-b5fc-b1ba51a8454b"
      },
      "execution_count": 91,
      "outputs": [
        {
          "output_type": "execute_result",
          "data": {
            "text/plain": [
              "<matplotlib.axes._subplots.AxesSubplot at 0x7fd0a07eb450>"
            ]
          },
          "metadata": {},
          "execution_count": 91
        },
        {
          "output_type": "display_data",
          "data": {
            "text/plain": [
              "<Figure size 432x288 with 1 Axes>"
            ],
            "image/png": "[encoded data removed]"
          },
          "metadata": {
            "needs_background": "light"
          }
        },
        {
          "output_type": "display_data",
          "data": {
            "text/plain": [
              "<Figure size 432x288 with 1 Axes>"
            ],
            "image/png": "[encoded data removed]"
          },
          "metadata": {
            "needs_background": "light"
          }
        }
      ]
    },
    {
      "cell_type": "code",
      "source": [
        ""
      ],
      "metadata": {
        "id": "3RFx8KI0NGh2"
      },
      "execution_count": 46,
      "outputs": []
    },
    {
      "cell_type": "code",
      "source": [
        "iris2.plot(kind=\"scatter\", x=\"PetalLengthCm\", y=\"PetalWidthCm\")\n",
        "iris2.plot(kind=\"scatter\", x=\"PetalLengthCm\", y=\"SepalLengthCm\")\n",
        "iris2.plot(kind=\"scatter\", x=\"PetalLengthCm\", y=\"SepalWidthCm\")"
      ],
      "metadata": {
        "colab": {
          "base_uri": "https://localhost:8080/",
          "height": 823
        },
        "id": "WsFoxsi3NnrZ",
        "outputId": "9601f344-8061-45c4-a3f1-41cc7704de00"
      },
      "execution_count": 92,
      "outputs": [
        {
          "output_type": "execute_result",
          "data": {
            "text/plain": [
              "<matplotlib.axes._subplots.AxesSubplot at 0x7fd0a06b7450>"
            ]
          },
          "metadata": {},
          "execution_count": 92
        },
        {
          "output_type": "display_data",
          "data": {
            "text/plain": [
              "<Figure size 432x288 with 1 Axes>"
            ],
            "image/png": "[encoded data removed]"
          },
          "metadata": {
            "needs_background": "light"
          }
        },
        {
          "output_type": "display_data",
          "data": {
            "text/plain": [
              "<Figure size 432x288 with 1 Axes>"
            ],
            "image/png": "[encoded data removed]"
          },
          "metadata": {
            "needs_background": "light"
          }
        },
        {
          "output_type": "display_data",
          "data": {
            "text/plain": [
              "<Figure size 432x288 with 1 Axes>"
            ],
            "image/png": "[encoded data removed]"
          },
          "metadata": {
            "needs_background": "light"
          }
        }
      ]
    },
    {
      "cell_type": "code",
      "source": [
        "iris2.plot(kind=\"scatter\", x=\"PetalWidthCm\", y=\"SepalLengthCm\")\n",
        "iris2.plot(kind=\"scatter\", x=\"PetalWidthCm\", y=\"SepalWidthCm\")"
      ],
      "metadata": {
        "colab": {
          "base_uri": "https://localhost:8080/",
          "height": 561
        },
        "id": "J8HnuoBtN82d",
        "outputId": "e3dc9804-d54c-4793-fdcb-e68275085a8f"
      },
      "execution_count": 93,
      "outputs": [
        {
          "output_type": "execute_result",
          "data": {
            "text/plain": [
              "<matplotlib.axes._subplots.AxesSubplot at 0x7fd0a05b8390>"
            ]
          },
          "metadata": {},
          "execution_count": 93
        },
        {
          "output_type": "display_data",
          "data": {
            "text/plain": [
              "<Figure size 432x288 with 1 Axes>"
            ],
            "image/png": "[encoded data removed]"
          },
          "metadata": {
            "needs_background": "light"
          }
        },
        {
          "output_type": "display_data",
          "data": {
            "text/plain": [
              "<Figure size 432x288 with 1 Axes>"
            ],
            "image/png": "[encoded data removed]"
          },
          "metadata": {
            "needs_background": "light"
          }
        }
      ]
    },
    {
      "cell_type": "code",
      "source": [
        ""
      ],
      "metadata": {
        "id": "dmoDQm2oONaZ"
      },
      "execution_count": null,
      "outputs": []
    },
    {
      "cell_type": "code",
      "source": [
        "import numpy as np\n",
        "import matplotlib.pyplot as plt\n",
        "from sklearn.datasets import load_iris\n",
        "\n",
        "iri2 = load_iris() \n",
        "colors = ['blue', 'red', 'green']\n",
        "\n",
        "feature_x= 3 \n",
        "for feature_y in range(iris.data.shape[1]):\n",
        "    plt.subplot(2, 2, feature_y+1) \n",
        "    for label, color in zip(range(len(iris.target_names)), colors):\n",
        "        \n",
        "        plt.scatter(iris.data[iris.target==label, feature_x],\n",
        "                    iris.data[iris.target==label, feature_y],\n",
        "                    label=iris.target_names[label],\n",
        "                    alpha = 0.45, # transparency\n",
        "                    color=color)\n",
        "    plt.xlabel(iris.feature_names[feature_x])\n",
        "    plt.ylabel(iris.feature_names[feature_y])\n",
        "    plt.legend()\n",
        "    plt.show()"
      ],
      "metadata": {
        "colab": {
          "base_uri": "https://localhost:8080/",
          "height": 595
        },
        "id": "DT8i7g0EACaF",
        "outputId": "ddd6b893-bad6-42a1-9a34-36c4f2f87151"
      },
      "execution_count": 113,
      "outputs": [
        {
          "output_type": "display_data",
          "data": {
            "text/plain": [
              "<Figure size 432x288 with 1 Axes>"
            ],
            "image/png": "[encoded data removed]"
          },
          "metadata": {
            "needs_background": "light"
          }
        },
        {
          "output_type": "display_data",
          "data": {
            "text/plain": [
              "<Figure size 432x288 with 1 Axes>"
            ],
            "image/png": "[encoded data removed]"
          },
          "metadata": {
            "needs_background": "light"
          }
        },
        {
          "output_type": "display_data",
          "data": {
            "text/plain": [
              "<Figure size 432x288 with 1 Axes>"
            ],
            "image/png": "[encoded data removed]"
          },
          "metadata": {
            "needs_background": "light"
          }
        },
        {
          "output_type": "display_data",
          "data": {
            "text/plain": [
              "<Figure size 432x288 with 1 Axes>"
            ],
            "image/png": "[encoded data removed]"
          },
          "metadata": {
            "needs_background": "light"
          }
        }
      ]
    },
    {
      "cell_type": "code",
      "source": [
        "# Problem 3: \n",
        "# Once you decide the best feature set(s) from the Problem #2, it is important to recognize \n",
        "# how the size of training set versus testing set (or ratio between sets) would influence the\n",
        "# overall representative performance. You will have the performance results per 10%, 20% ... 90% \n",
        "# and plot the results on a graph for each classifier with your analysis in words."
      ],
      "metadata": {
        "id": "Ze-xJve8hRl5"
      },
      "execution_count": null,
      "outputs": []
    },
    {
      "cell_type": "code",
      "source": [
        "# overall representative performance. You will have the performance results per 10%, 20% ... 90% \n",
        "split1 = 0.1\n",
        "x_train,x_test,y_train,y_test=train_test_split(x, y, test_size=split1)\n",
        "print(X_train.shape)\n",
        "print(X_test.shape)\n",
        "print(y_train.shape)\n",
        "print(y_test.shape)\n",
        "\n"
      ],
      "metadata": {
        "id": "KdnPgW3WiSLQ",
        "colab": {
          "base_uri": "https://localhost:8080/"
        },
        "outputId": "81b339e3-5dda-40c6-c3ae-b48e02906ecd"
      },
      "execution_count": 98,
      "outputs": [
        {
          "output_type": "stream",
          "name": "stdout",
          "text": [
            "(15, 4)\n",
            "(135, 4)\n",
            "(135,)\n",
            "(15,)\n"
          ]
        }
      ]
    },
    {
      "cell_type": "code",
      "source": [
        "split2 = 0.2\n",
        "x_train,x_test,y_train,y_test=train_test_split(x, y, test_size=split2)\n",
        "print(X_train.shape)\n",
        "print(X_test.shape)\n",
        "print(y_train.shape)\n",
        "print(y_test.shape)\n"
      ],
      "metadata": {
        "colab": {
          "base_uri": "https://localhost:8080/"
        },
        "id": "CxpGN-Eq5unE",
        "outputId": "7e29241d-b27e-433e-ce23-844c22646458"
      },
      "execution_count": 99,
      "outputs": [
        {
          "output_type": "stream",
          "name": "stdout",
          "text": [
            "(15, 4)\n",
            "(135, 4)\n",
            "(120,)\n",
            "(30,)\n"
          ]
        }
      ]
    },
    {
      "cell_type": "code",
      "source": [
        "split3 = 0.3\n",
        "x_train,x_test,y_train,y_test=train_test_split(x, y, test_size=split3)\n",
        "print(X_train.shape)\n",
        "print(X_test.shape)\n",
        "print(y_train.shape)\n",
        "print(y_test.shape)\n",
        "\n",
        "\n",
        "\n"
      ],
      "metadata": {
        "colab": {
          "base_uri": "https://localhost:8080/"
        },
        "id": "-pU3YWTa5ucH",
        "outputId": "cecc82f6-497a-4222-d1af-bbe4ca458044"
      },
      "execution_count": 102,
      "outputs": [
        {
          "output_type": "stream",
          "name": "stdout",
          "text": [
            "(15, 4)\n",
            "(135, 4)\n",
            "(105,)\n",
            "(45,)\n"
          ]
        }
      ]
    },
    {
      "cell_type": "code",
      "source": [
        "split4 = 0.4\n",
        "x_train,x_test,y_train,y_test=train_test_split(x, y, test_size=split4)\n",
        "\n",
        "print(X_train.shape)\n",
        "print(X_test.shape)\n",
        "print(y_train.shape)\n",
        "print(y_test.shape)"
      ],
      "metadata": {
        "colab": {
          "base_uri": "https://localhost:8080/"
        },
        "id": "Xce8tH7N5uHk",
        "outputId": "5ce6106c-e8f5-443e-a4bd-5aac359e9cd6"
      },
      "execution_count": 101,
      "outputs": [
        {
          "output_type": "stream",
          "name": "stdout",
          "text": [
            "(15, 4)\n",
            "(135, 4)\n",
            "(90,)\n",
            "(60,)\n"
          ]
        }
      ]
    },
    {
      "cell_type": "code",
      "source": [
        "split5 = 0.5\n",
        "x_train,x_test,y_train,y_test=train_test_split(x, y, test_size=split5)\n",
        "\n",
        "print(X_train.shape)\n",
        "print(X_test.shape)\n",
        "print(y_train.shape)\n",
        "print(y_test.shape)"
      ],
      "metadata": {
        "colab": {
          "base_uri": "https://localhost:8080/"
        },
        "id": "n9IN-rb05twS",
        "outputId": "79d2f723-4e91-479c-8a8c-c5e551813a12"
      },
      "execution_count": 103,
      "outputs": [
        {
          "output_type": "stream",
          "name": "stdout",
          "text": [
            "(15, 4)\n",
            "(135, 4)\n",
            "(75,)\n",
            "(75,)\n"
          ]
        }
      ]
    },
    {
      "cell_type": "code",
      "source": [
        "split6 = 0.6\n",
        "x_train,x_test,y_train,y_test=train_test_split(x, y, test_size=split6)\n",
        "print(X_train.shape)\n",
        "print(X_test.shape)\n",
        "print(y_train.shape)\n",
        "print(y_test.shape)"
      ],
      "metadata": {
        "colab": {
          "base_uri": "https://localhost:8080/"
        },
        "id": "74rjlYJZ5thU",
        "outputId": "e733c2b5-e11f-4c2e-bc40-eeb530684d44"
      },
      "execution_count": 104,
      "outputs": [
        {
          "output_type": "stream",
          "name": "stdout",
          "text": [
            "(15, 4)\n",
            "(135, 4)\n",
            "(60,)\n",
            "(90,)\n"
          ]
        }
      ]
    },
    {
      "cell_type": "code",
      "source": [
        "split7 = 0.7\n",
        "x_train,x_test,y_train,y_test=train_test_split(x, y, test_size=split7)\n",
        "print(X_train.shape)\n",
        "print(X_test.shape)\n",
        "print(y_train.shape)\n",
        "print(y_test.shape)"
      ],
      "metadata": {
        "colab": {
          "base_uri": "https://localhost:8080/"
        },
        "id": "pygB6Dj05tRj",
        "outputId": "46436ecc-ba61-452f-fc75-6a4c02c63a8a"
      },
      "execution_count": 105,
      "outputs": [
        {
          "output_type": "stream",
          "name": "stdout",
          "text": [
            "(15, 4)\n",
            "(135, 4)\n",
            "(45,)\n",
            "(105,)\n"
          ]
        }
      ]
    },
    {
      "cell_type": "code",
      "source": [
        "split8 = 0.8\n",
        "x_train,x_test,y_train,y_test=train_test_split(x, y, test_size=split8)\n",
        "print(X_train.shape)\n",
        "print(X_test.shape)\n",
        "print(y_train.shape)\n",
        "print(y_test.shape)\n",
        "\n",
        "\n"
      ],
      "metadata": {
        "colab": {
          "base_uri": "https://localhost:8080/"
        },
        "id": "Uoa1v09z5s8q",
        "outputId": "03f39d6c-63a4-4bb6-a8e0-78a211acce9b"
      },
      "execution_count": 106,
      "outputs": [
        {
          "output_type": "stream",
          "name": "stdout",
          "text": [
            "(15, 4)\n",
            "(135, 4)\n",
            "(30,)\n",
            "(120,)\n"
          ]
        }
      ]
    },
    {
      "cell_type": "code",
      "source": [
        "split9 = 0.9\n",
        "x_train,x_test,y_train,y_test=train_test_split(x, y, test_size=split9)\n",
        "print(X_train.shape)\n",
        "print(X_test.shape)\n",
        "print(y_train.shape)\n",
        "print(y_test.shape)"
      ],
      "metadata": {
        "colab": {
          "base_uri": "https://localhost:8080/"
        },
        "id": "gXGKmilZ5VQv",
        "outputId": "ea31bcf9-b388-4ff7-aeb0-8e75af89aa25"
      },
      "execution_count": 107,
      "outputs": [
        {
          "output_type": "stream",
          "name": "stdout",
          "text": [
            "(15, 4)\n",
            "(135, 4)\n",
            "(15,)\n",
            "(135,)\n"
          ]
        }
      ]
    }
  ]
}